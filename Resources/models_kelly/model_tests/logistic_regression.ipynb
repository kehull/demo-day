{
 "cells": [
  {
   "cell_type": "code",
   "execution_count": 1,
   "metadata": {},
   "outputs": [],
   "source": [
    "import matplotlib.pyplot as plt\n",
    "import pandas as pd\n",
    "import os\n",
    "from sklearn.model_selection import train_test_split\n",
    "from sklearn.linear_model import LogisticRegression"
   ]
  },
  {
   "cell_type": "code",
   "execution_count": 2,
   "metadata": {},
   "outputs": [],
   "source": [
    "# read in csv\n",
    "df = pd.read_csv('encoded_transactions.csv')\n",
    "\n",
    "#df of all values in csv\n",
    "df1a = df.drop(columns=[\"offer_completed\", \"paid\"])\n",
    "df1 = df1a.drop(columns=[\"offer_viewed\"])\n",
    "\n",
    "#df of only viewed rows in csv\n",
    "df2 = df1a[df1a['offer_viewed_y_n'] == 1].drop(columns=[\"offer_viewed\"])\n",
    "\n",
    "#df using best columns from linear regression model\n",
    "df3a = df.drop(columns=[\"offer_completed\", \"paid\", \"age\", \"became_member_on\"])\n",
    "df3 = df3a.drop(columns=[\"offer_viewed\"])\n",
    "\n",
    "# best columns from linear regression, only viewed rows\n",
    "df4 = df3a[df3a['offer_viewed_y_n'] == 1].drop(columns=[\"offer_viewed\"])\n",
    "\n",
    "dataframes = [df1, df2, df3, df4]"
   ]
  },
  {
   "cell_type": "code",
   "execution_count": 3,
   "metadata": {},
   "outputs": [],
   "source": [
    "def test(frame):\n",
    "    X = frame.drop(\"offer_completed_y_n\", axis=1)\n",
    "    y = frame[\"offer_completed_y_n\"]\n",
    "    print(X.shape, y.shape)\n",
    "    X_train, X_test, y_train, y_test = train_test_split(X, y, random_state=1)\n",
    "    classifier = LogisticRegression()\n",
    "    classifier.fit(X_train, y_train)\n",
    "    print(f\"Training Data Score: {classifier.score(X_train, y_train)}\")\n",
    "    print(f\"Testing Data Score: {classifier.score(X_test, y_test)}\")\n",
    "    predictions = classifier.predict(X_test)\n",
    "    print(f\"First 10 Predictions:   {predictions[:10]}\")\n",
    "    print(f\"First 10 Actual labels: {y_test[:10].tolist()}\")\n",
    "    score = round((classifier.score(X_test, y_test)*100),2)\n",
    "#     pd.DataFrame({\"Prediction\": predictions, \"Actual\": y_test}).reset_index(drop=True)\n",
    "    print(score)\n",
    "    print(\"=====\")"
   ]
  },
  {
   "cell_type": "code",
   "execution_count": 4,
   "metadata": {},
   "outputs": [
    {
     "name": "stdout",
     "output_type": "stream",
     "text": [
      "(66501, 12) (66501,)\n",
      "Training Data Score: 0.5661754385964912\n",
      "Testing Data Score: 0.5680259833994947\n",
      "First 10 Predictions:   [1 0 1 0 0 1 1 0 1 0]\n",
      "First 10 Actual labels: [1, 0, 0, 0, 1, 0, 0, 0, 1, 1]\n",
      "56.8\n",
      "=====\n",
      "(64322, 12) (64322,)\n",
      "Training Data Score: 0.5686034700773202\n",
      "Testing Data Score: 0.5691188358932903\n",
      "First 10 Predictions:   [0 1 1 1 1 0 1 1 0 1]\n",
      "First 10 Actual labels: [0, 1, 1, 1, 1, 0, 0, 1, 0, 0]\n",
      "56.91\n",
      "=====\n",
      "(66501, 10) (66501,)\n",
      "Training Data Score: 0.5359398496240602\n",
      "Testing Data Score: 0.5378323108384458\n",
      "First 10 Predictions:   [0 0 1 0 0 1 1 0 1 1]\n",
      "First 10 Actual labels: [1, 0, 0, 0, 1, 0, 0, 0, 1, 1]\n",
      "53.78\n",
      "=====\n",
      "(64322, 10) (64322,)\n",
      "Training Data Score: 0.5377168798325076\n",
      "Testing Data Score: 0.5311236863379143\n",
      "First 10 Predictions:   [1 0 1 0 0 0 1 1 0 1]\n",
      "First 10 Actual labels: [0, 1, 1, 1, 1, 0, 0, 1, 0, 0]\n",
      "53.11\n",
      "=====\n"
     ]
    }
   ],
   "source": [
    "for frame in dataframes:\n",
    "    test(frame)"
   ]
  },
  {
   "cell_type": "code",
   "execution_count": null,
   "metadata": {},
   "outputs": [],
   "source": []
  },
  {
   "cell_type": "code",
   "execution_count": null,
   "metadata": {},
   "outputs": [],
   "source": []
  },
  {
   "cell_type": "code",
   "execution_count": null,
   "metadata": {},
   "outputs": [],
   "source": []
  }
 ],
 "metadata": {
  "kernelspec": {
   "display_name": "Python 3",
   "language": "python",
   "name": "python3"
  },
  "language_info": {
   "codemirror_mode": {
    "name": "ipython",
    "version": 3
   },
   "file_extension": ".py",
   "mimetype": "text/x-python",
   "name": "python",
   "nbconvert_exporter": "python",
   "pygments_lexer": "ipython3",
   "version": "3.6.10"
  }
 },
 "nbformat": 4,
 "nbformat_minor": 4
}
