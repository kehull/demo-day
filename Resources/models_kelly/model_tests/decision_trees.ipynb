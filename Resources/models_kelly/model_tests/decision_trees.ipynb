{
 "cells": [
  {
   "cell_type": "code",
   "execution_count": 1,
   "metadata": {},
   "outputs": [],
   "source": [
    "from sklearn import tree\n",
    "import pandas as pd\n",
    "import os\n",
    "from sklearn.model_selection import train_test_split\n",
    "from sklearn.ensemble import RandomForestClassifier"
   ]
  },
  {
   "cell_type": "code",
   "execution_count": 2,
   "metadata": {},
   "outputs": [],
   "source": [
    "# read in csv\n",
    "df = pd.read_csv('encoded_transactions.csv')\n",
    "\n",
    "#df of all values in csv\n",
    "df1a = df.drop(columns=[\"offer_completed\", \"paid\"])\n",
    "df1 = df1a.drop(columns=[\"offer_viewed\"])\n",
    "\n",
    "#df of only viewed rows in csv\n",
    "df2 = df1a[df1a['offer_viewed_y_n'] == 1].drop(columns=[\"offer_viewed\"])\n",
    "\n",
    "#df using best columns from linear regression model\n",
    "df3a = df.drop(columns=[\"offer_completed\", \"paid\", \"age\", \"became_member_on\"])\n",
    "df3 = df3a.drop(columns=[\"offer_viewed\"])\n",
    "\n",
    "# best columns from linear regression, only viewed rows\n",
    "df4 = df3a[df3a['offer_viewed_y_n'] == 1].drop(columns=[\"offer_viewed\"])\n",
    "\n",
    "dataframes = [df1, df2, df3, df4]"
   ]
  },
  {
   "cell_type": "code",
   "execution_count": 3,
   "metadata": {},
   "outputs": [],
   "source": [
    "def test(frame):\n",
    "    target = frame[\"offer_completed_y_n\"]\n",
    "    target_names = [0, 1]\n",
    "    data = frame.drop(\"offer_completed_y_n\", axis=1)\n",
    "    feature_names = data.columns\n",
    "    X_train, X_test, y_train, y_test = train_test_split(data, target, random_state=42)\n",
    "    clf = tree.DecisionTreeClassifier()\n",
    "    clf = clf.fit(X_train, y_train)\n",
    "    print(clf.score(X_test, y_test))\n",
    "    rf = RandomForestClassifier(n_estimators=200)\n",
    "    rf = rf.fit(X_train, y_train)\n",
    "    print(rf.score(X_test, y_test))\n",
    "    print(sorted(zip(rf.feature_importances_, feature_names), reverse=True))\n",
    "    print(\"=====\")"
   ]
  },
  {
   "cell_type": "code",
   "execution_count": 4,
   "metadata": {},
   "outputs": [
    {
     "name": "stdout",
     "output_type": "stream",
     "text": [
      "0.6451341272705401\n",
      "0.6892818477084085\n",
      "[(0.2664370004251552, 'became_member_on'), (0.2166702167541862, 'income'), (0.21629077416629136, 'age'), (0.0765427041082071, 'offer_received'), (0.04010657270472414, 'reward'), (0.03933475014319494, 'offer_id'), (0.030197979840395055, 'difficulty'), (0.02987374180465289, 'duration'), (0.02732637515399622, 'offer_type'), (0.02283920653711676, 'offer_viewed_y_n'), (0.02257659760916884, 'gender'), (0.011804080752911242, 'channels')]\n",
      "=====\n",
      "0.6234686897580997\n",
      "0.6778807288103974\n",
      "[(0.2731215938869265, 'became_member_on'), (0.22338928093047938, 'income'), (0.22140298158838756, 'age'), (0.07545510524227009, 'offer_received'), (0.03761983359499678, 'offer_id'), (0.036888993291709776, 'duration'), (0.03491660710732257, 'reward'), (0.03293280185686145, 'difficulty'), (0.029865664168535335, 'offer_type'), (0.023826592476486413, 'gender'), (0.01058054585602423, 'channels'), (0.0, 'offer_viewed_y_n')]\n",
      "=====\n",
      "0.658546854324552\n",
      "0.6717189943462047\n",
      "[(0.47455560350187914, 'income'), (0.10758694010653987, 'offer_received'), (0.07927573031536761, 'difficulty'), (0.06711561433764451, 'offer_id'), (0.0623413007994285, 'duration'), (0.059214237591544844, 'reward'), (0.04492508668106666, 'offer_viewed_y_n'), (0.04455228541136567, 'offer_type'), (0.040186437554623734, 'gender'), (0.02024676370053943, 'channels')]\n",
      "=====\n",
      "0.6491511721907841\n",
      "0.6574839873142218\n",
      "[(0.49694360776699076, 'income'), (0.1128637790253732, 'offer_received'), (0.07647189112401186, 'offer_id'), (0.06782077877936826, 'difficulty'), (0.06598339196914355, 'duration'), (0.058896773755650375, 'offer_type'), (0.05857566901425432, 'reward'), (0.0427788393636021, 'gender'), (0.019665269201605603, 'channels'), (0.0, 'offer_viewed_y_n')]\n",
      "=====\n"
     ]
    }
   ],
   "source": [
    "for frame in dataframes:\n",
    "    test(frame)"
   ]
  }
 ],
 "metadata": {
  "kernelspec": {
   "display_name": "Python 3",
   "language": "python",
   "name": "python3"
  },
  "language_info": {
   "codemirror_mode": {
    "name": "ipython",
    "version": 3
   },
   "file_extension": ".py",
   "mimetype": "text/x-python",
   "name": "python",
   "nbconvert_exporter": "python",
   "pygments_lexer": "ipython3",
   "version": "3.6.10"
  }
 },
 "nbformat": 4,
 "nbformat_minor": 4
}
