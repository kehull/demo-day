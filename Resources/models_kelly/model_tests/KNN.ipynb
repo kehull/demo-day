{
 "cells": [
  {
   "cell_type": "code",
   "execution_count": 1,
   "metadata": {},
   "outputs": [],
   "source": [
    "import matplotlib.pyplot as plt\n",
    "from sklearn.neighbors import KNeighborsClassifier\n",
    "import pandas as pd\n",
    "import os\n",
    "from sklearn.model_selection import train_test_split\n",
    "from sklearn.preprocessing import StandardScaler"
   ]
  },
  {
   "cell_type": "code",
   "execution_count": 2,
   "metadata": {},
   "outputs": [],
   "source": [
    "# read in csv\n",
    "df = pd.read_csv('encoded_transactions.csv')\n",
    "\n",
    "#df of all values in csv\n",
    "df1a = df.drop(columns=[\"offer_completed\", \"paid\"])\n",
    "df1 = df1a.drop(columns=[\"offer_viewed\"])\n",
    "\n",
    "#df of only viewed rows in csv\n",
    "df2 = df1a[df1a['offer_viewed_y_n'] == 1].drop(columns=[\"offer_viewed\"])\n",
    "\n",
    "#df using best columns from linear regression model\n",
    "df3a = df.drop(columns=[\"offer_completed\", \"paid\", \"age\", \"became_member_on\"])\n",
    "df3 = df3a.drop(columns=[\"offer_viewed\"])\n",
    "\n",
    "# best columns from linear regression, only viewed rows\n",
    "df4 = df3a[df3a['offer_viewed_y_n'] == 1].drop(columns=[\"offer_viewed\"])\n",
    "\n",
    "dataframes = [df1, df2, df3, df4]"
   ]
  },
  {
   "cell_type": "code",
   "execution_count": 3,
   "metadata": {},
   "outputs": [],
   "source": [
    "def test(frame):\n",
    "    y = frame[\"offer_completed_y_n\"]\n",
    "    X = frame.drop(\"offer_completed_y_n\", axis=1)\n",
    "    target_names = [0, 1]\n",
    "    X_train, X_test, y_train, y_test = train_test_split(X, y, random_state=42)\n",
    "    X_scaler = StandardScaler().fit(X_train)\n",
    "    X_train_scaled = X_scaler.transform(X_train)\n",
    "    X_test_scaled = X_scaler.transform(X_test)\n",
    "    train_scores = []\n",
    "    test_scores = []\n",
    "    for k in range(1, 20, 2):\n",
    "        knn = KNeighborsClassifier(n_neighbors=k)\n",
    "        knn.fit(X_train_scaled, y_train)\n",
    "        train_score = knn.score(X_train_scaled, y_train)\n",
    "        test_score = knn.score(X_test_scaled, y_test)\n",
    "        train_scores.append(train_score)\n",
    "        test_scores.append(test_score)\n",
    "        print(f\"k: {k}, Train/Test Score: {train_score:.3f}/{test_score:.3f}\")\n",
    "#         plt.plot(range(1, 20, 2), train_scores, marker='o')\n",
    "#         plt.plot(range(1, 20, 2), test_scores, marker=\"x\")\n",
    "#         plt.xlabel(\"k neighbors\")\n",
    "#         plt.ylabel(\"Testing accuracy Score\")\n",
    "#         plt.show()\n",
    "    print(\"=====\")"
   ]
  },
  {
   "cell_type": "code",
   "execution_count": 4,
   "metadata": {},
   "outputs": [
    {
     "name": "stdout",
     "output_type": "stream",
     "text": [
      "k: 1, Train/Test Score: 1.000/0.629\n",
      "k: 3, Train/Test Score: 0.820/0.656\n",
      "k: 5, Train/Test Score: 0.778/0.671\n",
      "k: 7, Train/Test Score: 0.761/0.675\n",
      "k: 9, Train/Test Score: 0.750/0.681\n",
      "k: 11, Train/Test Score: 0.743/0.682\n",
      "k: 13, Train/Test Score: 0.738/0.684\n",
      "k: 15, Train/Test Score: 0.734/0.690\n",
      "k: 17, Train/Test Score: 0.731/0.691\n",
      "k: 19, Train/Test Score: 0.730/0.693\n",
      "=====\n",
      "k: 1, Train/Test Score: 1.000/0.618\n",
      "k: 3, Train/Test Score: 0.810/0.645\n",
      "k: 5, Train/Test Score: 0.773/0.659\n",
      "k: 7, Train/Test Score: 0.753/0.663\n",
      "k: 9, Train/Test Score: 0.743/0.668\n",
      "k: 11, Train/Test Score: 0.734/0.674\n",
      "k: 13, Train/Test Score: 0.729/0.676\n",
      "k: 15, Train/Test Score: 0.726/0.678\n",
      "k: 17, Train/Test Score: 0.723/0.681\n",
      "k: 19, Train/Test Score: 0.721/0.681\n",
      "=====\n",
      "k: 1, Train/Test Score: 0.716/0.631\n",
      "k: 3, Train/Test Score: 0.744/0.661\n",
      "k: 5, Train/Test Score: 0.752/0.670\n",
      "k: 7, Train/Test Score: 0.751/0.682\n",
      "k: 9, Train/Test Score: 0.747/0.686\n",
      "k: 11, Train/Test Score: 0.742/0.690\n",
      "k: 13, Train/Test Score: 0.739/0.691\n",
      "k: 15, Train/Test Score: 0.737/0.694\n",
      "k: 17, Train/Test Score: 0.734/0.699\n",
      "k: 19, Train/Test Score: 0.731/0.701\n",
      "=====\n",
      "k: 1, Train/Test Score: 0.706/0.624\n",
      "k: 3, Train/Test Score: 0.738/0.648\n",
      "k: 5, Train/Test Score: 0.745/0.663\n",
      "k: 7, Train/Test Score: 0.743/0.673\n",
      "k: 9, Train/Test Score: 0.739/0.674\n",
      "k: 11, Train/Test Score: 0.735/0.675\n",
      "k: 13, Train/Test Score: 0.732/0.676\n",
      "k: 15, Train/Test Score: 0.730/0.681\n",
      "k: 17, Train/Test Score: 0.726/0.681\n",
      "k: 19, Train/Test Score: 0.725/0.682\n",
      "=====\n"
     ]
    }
   ],
   "source": [
    "for frame in dataframes:\n",
    "    test(frame)"
   ]
  },
  {
   "cell_type": "code",
   "execution_count": null,
   "metadata": {},
   "outputs": [],
   "source": []
  }
 ],
 "metadata": {
  "kernelspec": {
   "display_name": "Python 3",
   "language": "python",
   "name": "python3"
  },
  "language_info": {
   "codemirror_mode": {
    "name": "ipython",
    "version": 3
   },
   "file_extension": ".py",
   "mimetype": "text/x-python",
   "name": "python",
   "nbconvert_exporter": "python",
   "pygments_lexer": "ipython3",
   "version": "3.6.10"
  }
 },
 "nbformat": 4,
 "nbformat_minor": 4
}
